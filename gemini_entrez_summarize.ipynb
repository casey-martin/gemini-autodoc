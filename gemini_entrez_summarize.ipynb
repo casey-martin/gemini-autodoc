{
 "cells": [
  {
   "cell_type": "code",
   "execution_count": 1,
   "metadata": {},
   "outputs": [],
   "source": [
    "import os\n",
    "import google.generativeai as genai\n",
    "\n",
    "from pathlib import Path"
   ]
  },
  {
   "cell_type": "code",
   "execution_count": 2,
   "metadata": {},
   "outputs": [],
   "source": [
    "CONTEXT_PATH = \"data/prompts/chap_2_tab_1.md\""
   ]
  },
  {
   "cell_type": "code",
   "execution_count": 3,
   "metadata": {},
   "outputs": [],
   "source": [
    "genai.configure(api_key=os.environ[\"GEMINI_API_KEY\"])\n",
    "\n",
    "# Create the model\n",
    "# See https://ai.google.dev/api/python/google/generativeai/GenerativeModel\n",
    "generation_config = {\n",
    "  \"temperature\": 0,\n",
    "  \"top_p\": 0.95,\n",
    "  \"top_k\": 64,\n",
    "  \"max_output_tokens\": 8192,\n",
    "  \"response_mime_type\": \"text/plain\",\n",
    "}"
   ]
  },
  {
   "cell_type": "code",
   "execution_count": 4,
   "metadata": {},
   "outputs": [],
   "source": [
    "model = genai.GenerativeModel(\n",
    "  model_name=\"gemini-1.5-flash-latest\",\n",
    "  generation_config=generation_config,\n",
    "  system_instruction=\"You are a helpful, meticulous, scientific research assistant.\",\n",
    ")"
   ]
  },
  {
   "cell_type": "code",
   "execution_count": 5,
   "metadata": {},
   "outputs": [],
   "source": [
    "prompt = \"Instruction: Condense each database description into an informative one sentence summary 3-4 techincal keywords. Return a markdown table with the database name\\n\\n\"\n",
    "\n",
    "with open(CONTEXT_PATH) as f:\n",
    "    doc = f.read()\n",
    "prompt += doc"
   ]
  },
  {
   "cell_type": "code",
   "execution_count": 6,
   "metadata": {},
   "outputs": [],
   "source": [
    "response = model.generate_content(prompt)"
   ]
  },
  {
   "cell_type": "code",
   "execution_count": 7,
   "metadata": {},
   "outputs": [
    {
     "data": {
      "text/plain": [
       "\"## Condensed Database Descriptions:\\n\\n**Assembly:** Provides access to genome assemblies, including submitted and NCBI RefSeq assemblies, with versioned identifiers and links to related data. \\n**Keywords:** Genome Assembly, RefSeq, Accession Identifiers\\n\\n**BioProject:** A searchable collection of large-scale molecular projects, including genome sequencing, transcriptome, and metagenomic studies, linking to associated data in NCBI databases.\\n**Keywords:** BioProject, Molecular Projects, Data Integration\\n\\n**BioSample:** Contains descriptions of biological source materials used in studies with data in NCBI molecular databases, such as Assembly, Nucleotide, and SRA.\\n**Keywords:** BioSample, Biological Materials, Molecular Databases\\n\\n**BioSystems:** Collects information on interacting sets of biomolecules involved in biological processes, including metabolic and signaling pathways, and disease states.\\n**Keywords:** BioSystems, Biological Pathways, Molecular Interactions\\n\\n**Bookshelf:** A collection of full-text books, including biomedical textbooks, scientific titles, and NCBI help manuals, searchable online and linked to PubMed records.\\n**Keywords:** Bookshelf, Full-Text Books, PubMed Integration\\n\\n**ClinVar:** A public archive of submitted reports of clinically relevant human genetic variants and their relationships to phenotypes, with supporting evidence.\\n**Keywords:** ClinVar, Genetic Variants, Phenotypes, Clinical Relevance\\n\\n**Conserved Domains:** A database of protein domains represented by sequence alignments and profiles, including alignments to known 3D protein structures in MMDB.\\n**Keywords:** Conserved Domains, Protein Domains, Sequence Alignments\\n\\n**dbGaP:** Provides results of studies investigating the interaction of genotype and phenotype, including genome-wide association studies and medical sequencing.\\n**Keywords:** dbGaP, Genotype-Phenotype Association, Genome-Wide Association Studies\\n\\n**dbVAR:** Contains information about large-scale genomic variation, including insertions, deletions, translocations, and inversions, with associations to phenotype information.\\n**Keywords:** dbVAR, Genomic Structural Variation, Phenotype Associations\\n\\n**EST:** Contains sequence records from the bulk EST (Expressed Sequence Tag) division of GenBank, typically short single-pass reads from cDNA libraries.\\n**Keywords:** EST, Expressed Sequence Tags, cDNA Libraries\\n\\n**Gene:** A searchable database of genes, focusing on completely sequenced genomes, with information on nomenclature, chromosomal localization, gene products, and associated data.\\n**Keywords:** Gene, Gene Information, Genome Sequencing\\n\\n**Genome:** Contains sequence and map data from the whole genomes of over 1000 species or strains, representing both complete and in-progress sequencing projects.\\n**Keywords:** Genome, Whole Genome Sequencing, Genomic Data\\n\\n**GEO Datasets:** Stores curated gene expression and molecular abundance data sets assembled from the Gene Expression Omnibus (GEO) repository.\\n**Keywords:** GEO Datasets, Gene Expression, Microarray Data\\n\\n**GEO Profiles:** Stores individual gene expression and molecular abundance profiles assembled from the Gene Expression Omnibus (GEO) repository.\\n**Keywords:** GEO Profiles, Gene Expression Profiles, Microarray Data\\n\\n**GSS:** Contains sequence records from the bulk GSS (Genome Survey Sequence) division of GenBank, short single-pass reads from gDNA libraries.\\n**Keywords:** GSS, Genome Survey Sequences, gDNA Libraries\\n\\n**GTR:** A repository for voluntary submissions of genetic test information by providers, including purpose, methodology, validity, and evidence of usefulness.\\n**Keywords:** GTR, Genetic Testing, Test Information\\n\\n**HomoloGene:** Contains automatically generated sets of homologous genes and their corresponding sequence data from selected eukaryotic organisms.\\n**Keywords:** HomoloGene, Homologous Genes, Eukaryotic Organisms\\n\\n**MedGen:** NCBI's portal to information about human disorders and other phenotypes with a genetic component, aggregating diverse terms into specific concepts.\\n**Keywords:** MedGen, Human Disorders, Phenotypes, Genetic Component\\n\\n**MeSH:** The National Library of Medicine's controlled vocabulary and classification system (ontology) used for indexing articles in PubMed.\\n**Keywords:** MeSH, Medical Subject Headings, Controlled Vocabulary\\n\\n**NCBI Web Site Search:** A database of static NCBI web pages, documentation, and online tools, providing a quick way to find specialized resources.\\n**Keywords:** NCBI Web Site Search, Static Web Pages, Online Tools\\n\\n**NLM Catalog:** Contains records for books, journals, audiovisuals, computer software, electronic resources, and other materials in the National Library of Medicine (NLM) collections.\\n**Keywords:** NLM Catalog, Library Resources, Bibliographic Data\\n\\n**Nucleotide:** Contains all sequence data from GenBank, EMBL, and DDBJ, including NCBI-curated Reference Sequences (RefSeqs), submitted assemblies, and annotations.\\n**Keywords:** Nucleotide, Sequence Data, GenBank, RefSeq\\n\\n**OMIM:** A database of human genes, genetic disorders, and other inherited traits, providing links to associated literature, sequence records, and related databases.\\n**Keywords:** OMIM, Human Genes, Genetic Disorders, Inherited Traits\\n\\n**PopSet:** Contains related nucleotide sequences from comparative studies, including phylogenetic, population, environmental, and mutational studies.\\n**Keywords:** PopSet, Comparative Studies, Nucleotide Sequences\\n\\n**Probe:** A database of nucleic acid reagents designed for use in biomedical research applications, including genotyping, gene expression studies, and SNP discovery.\\n**Keywords:** Probe, Nucleic Acid Reagents, Biomedical Research\\n\\n**Protein:** Contains amino acid sequences created from the translations of coding regions in GenBank, EMBL, DDBJ, and other sources.\\n**Keywords:** Protein, Amino Acid Sequences, Protein Databases\\n\\n**Protein Clusters:** A collection of related protein sequences (clusters) consisting of Reference Sequence proteins encoded by complete prokaryotic genomes and eukaryotic organelle genomes.\\n**Keywords:** Protein Clusters, Protein Sequences, Prokaryotic Genomes\\n\\n**PubChem BioAssay:** Contains bioactivity screens of chemical substances described in PubChem Substance, providing searchable descriptions of each bioassay.\\n**Keywords:** PubChem BioAssay, Bioactivity Screens, Chemical Substances\\n\\n**PubChem Compound:** Contains unique, validated chemical structures (small molecules), searchable using names, synonyms, or keywords.\\n**Keywords:** PubChem Compound, Chemical Structures, Small Molecules\\n\\n**PubChem Substance:** Contains information on chemical substances, including mixtures electronically submitted to PubChem, with chemical structure information, names, comments, and links.\\n**Keywords:** PubChem Substance, Chemical Substances, Mixture Information\\n\\n**PubMed:** A database of citations and abstracts for biomedical literature from MEDLINE and additional life science journals, with links to full-text versions when available.\\n**Keywords:** PubMed, Biomedical Literature, Citations, Abstracts\\n\\n**PubMed Central:** The U.S. National Library of Medicine's digital archive of life sciences journal literature, containing full-text manuscripts deposited by authors or publishers.\\n**Keywords:** PubMed Central, Full-Text Manuscripts, Digital Archive\\n\\n**SNP:** A central repository for single nucleotide polymorphisms, microsatellites, and small-scale insertions and deletions, including both submitted SNPs and NCBI-produced RefSNPs.\\n**Keywords:** SNP, Single Nucleotide Polymorphisms, Genetic Variation\\n\\n**SRA:** Contains sequencing data from next-generation sequencing platforms, including 454, Illumina, SOLiD, HeliScope, and Complete Genomics.\\n**Keywords:** SRA, Next-Generation Sequencing, Sequencing Data\\n\\n**Structure:** Contains experimental data from crystallographic and NMR structure determinations obtained from the Protein Data Bank (PDB).\\n**Keywords:** Structure, Molecular Modeling, Protein Structures\\n\\n**Taxonomy:** Contains the names and phylogenetic lineages of species with molecular data in NCBI databases, providing links to all molecular data and external classification resources.\\n**Keywords:** Taxonomy, Phylogenetic Lineages, Species Classification\\n\\n**UniGene:** Provides automatically generated nonredundant sets (clusters) of transcript sequences, representing distinct transcription loci (genes or expressed pseudogenes).\\n**Keywords:** UniGene, Transcript Sequences, Gene Expression \\n\""
      ]
     },
     "execution_count": 7,
     "metadata": {},
     "output_type": "execute_result"
    }
   ],
   "source": [
    "response.text"
   ]
  },
  {
   "cell_type": "code",
   "execution_count": null,
   "metadata": {},
   "outputs": [],
   "source": []
  }
 ],
 "metadata": {
  "kernelspec": {
   "display_name": "Python 3",
   "language": "python",
   "name": "python3"
  },
  "language_info": {
   "codemirror_mode": {
    "name": "ipython",
    "version": 3
   },
   "file_extension": ".py",
   "mimetype": "text/x-python",
   "name": "python",
   "nbconvert_exporter": "python",
   "pygments_lexer": "ipython3",
   "version": "3.12.3"
  }
 },
 "nbformat": 4,
 "nbformat_minor": 2
}
