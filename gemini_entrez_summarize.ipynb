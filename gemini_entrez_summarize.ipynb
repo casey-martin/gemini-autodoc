{
 "cells": [
  {
   "cell_type": "code",
   "execution_count": 1,
   "metadata": {},
   "outputs": [],
   "source": [
    "import os\n",
    "\n",
    "import google.generativeai as genai\n",
    "import json\n",
    "\n",
    "from pathlib import Path"
   ]
  },
  {
   "cell_type": "code",
   "execution_count": 2,
   "metadata": {},
   "outputs": [],
   "source": [
    "genai.configure(api_key=os.environ[\"GEMINI_API_KEY\"])\n",
    "\n",
    "# Create the model\n",
    "# See https://ai.google.dev/api/python/google/generativeai/GenerativeModel\n",
    "generation_config = {\n",
    "  \"temperature\": 0.3,\n",
    "  \"top_p\": 0.95,\n",
    "  \"top_k\": 64,\n",
    "  \"max_output_tokens\": 8192,\n",
    "  \"response_mime_type\": \"application/json\",\n",
    "}\n",
    "safety_settings = [\n",
    "  {\n",
    "    \"category\": \"HARM_CATEGORY_HARASSMENT\",\n",
    "    \"threshold\": \"BLOCK_MEDIUM_AND_ABOVE\",\n",
    "  },\n",
    "  {\n",
    "    \"category\": \"HARM_CATEGORY_HATE_SPEECH\",\n",
    "    \"threshold\": \"BLOCK_MEDIUM_AND_ABOVE\",\n",
    "  },\n",
    "  {\n",
    "    \"category\": \"HARM_CATEGORY_SEXUALLY_EXPLICIT\",\n",
    "    \"threshold\": \"BLOCK_MEDIUM_AND_ABOVE\",\n",
    "  },\n",
    "  {\n",
    "    \"category\": \"HARM_CATEGORY_DANGEROUS_CONTENT\",\n",
    "    \"threshold\": \"BLOCK_MEDIUM_AND_ABOVE\",\n",
    "  },\n",
    "]"
   ]
  },
  {
   "cell_type": "code",
   "execution_count": 3,
   "metadata": {},
   "outputs": [],
   "source": [
    "model = genai.GenerativeModel(\n",
    "  model_name=\"gemini-1.5-flash-latest\",\n",
    "  safety_settings=safety_settings,\n",
    "  generation_config=generation_config,\n",
    "  system_instruction=\"You are a helpful, meticulous, scientific research assistant.\",\n",
    ")"
   ]
  },
  {
   "cell_type": "code",
   "execution_count": 4,
   "metadata": {},
   "outputs": [],
   "source": [
    "prompt = \"Instruction: Condense each database description to an informative one sentence summary.\\n\\n\"\n",
    "\n",
    "_file = \"data/prompts/entrez_dbs.md\"\n",
    "with open(_file) as f:\n",
    "    doc = f.readlines()\n",
    "doc = \"\".join(doc)\n",
    "prompt += doc"
   ]
  },
  {
   "cell_type": "code",
   "execution_count": 5,
   "metadata": {},
   "outputs": [],
   "source": [
    "response = model.generate_content(prompt)"
   ]
  },
  {
   "cell_type": "code",
   "execution_count": 7,
   "metadata": {},
   "outputs": [
    {
     "name": "stdout",
     "output_type": "stream",
     "text": [
      "{'Assembly': 'Assembly provides versioned accession identifiers for submitted and RefSeq assemblies, linking to components in the Nucleotide system and providing direct access to downloads on the NCBI FTP site.', 'BioProject': 'BioProject is a searchable collection of large-scale molecular projects including genome sequencing, transcriptome, metagenomic, annotation, expression, and mapping projects, providing a central point to link to all associated data in NCBI databases.', 'BioSample': 'BioSample contains descriptions of biological source materials used in studies with data in other NCBI molecular databases such as Assembly, Nucleotide, and SRA.', 'BioSystems': 'BioSystems collects information on interacting sets of biomolecules involved in metabolic and signaling pathways, disease states, and other biological processes, currently containing pathways from KEGG and EcoCyc and designed to accommodate other data in the future.', 'Bookshelf': 'NCBI Bookshelf contains a collection of full-text books that can be searched online and are linked to PubMed records through research paper citations within the text.', 'ClinVar': 'ClinVar is a public archive of submitted reports of clinically relevant human genetic variants and their relationships to phenotypes, providing standardized nomenclature for variants and phenotypes, a review status for variants, and links to related NCBI literature and molecular databases.', 'Conserved Domains': 'Conserved Domains is a database of protein domains represented by sequence alignments and profiles for protein domains conserved in molecular evolution, including alignments of the domains to known three-dimensional protein structures in the MMDB database.', 'dbGaP': 'dbGaP provides the results of studies that have investigated the interaction of genotype and phenotype including genome-wide association studies, medical sequencing, molecular diagnostic assays, as well as association between genotype and non-clinical traits.', 'dbVAR': 'dbVAR contains information about large-scale genomic variation, including large insertions, deletions, translocations, and inversions, and provides associations of defined variants with phenotype information.', 'EST': 'The EST database contains sequence records from the bulk EST (Expressed Sequence Tag) division of GenBank, typically short single-pass reads from cDNA libraries often generated as large survey projects.', 'Gene': 'Gene is a searchable database of genes, focusing on genomes that have been completely sequenced and have an active research community to contribute gene-specific data.', 'Genome': 'The Genome database contains sequence and map data from the whole genomes of over 1000 species or strains, representing both completely sequenced genomes and those with sequencing in-progress.', 'GEO Datasets': 'GEO Datasets stores curated gene expression and molecular abundance data sets assembled by NCBI from the Gene Expression Omnibus (GEO) repository of microarray data.', 'GEO Profiles': 'GEO Profiles is a database that stores individual gene expression and molecular abundance profiles assembled from the Gene Expression Omnibus (GEO) repository of microarray data.', 'GSS': 'The GSS database contains sequence records from the bulk GSS (Genome Survey Sequence) division of GenBank, the genomic equivalent of EST records; short single pass reads from gDNA libraries.', 'GTR': 'The Genetic Testing Registry (GTR) is a repository for voluntary submissions of genetic test information by providers, including the purpose of the test, methodology, validity, evidence of the usefulness of the test, and laboratory contacts and credentials.', 'HomoloGene': 'The HomoloGene database contains automatically generated sets of homologous genes and their corresponding mRNA, genomic, and protein sequence data from selected eukaryotic organisms.', 'MedGen': 'MedGen is NCBI’s portal to information about human disorders and other phenotypes having a genetic component, providing centralized access to diverse types of content and aggregating the wide variety of terms used for particular disorders into a specific concept.', 'MeSH': \"MeSH (Medical Subject Headings) is the National Library of Medicine's controlled vocabulary and classification system (ontology) used for indexing articles in PubMed.\", 'NCBI Web Site Search': 'NCBI Site Search is a database of static NCBI web pages, documentation, and online tools.', 'NLM Catalog': 'The NLM Catalog contains records for books, journals, audiovisuals, computer software, electronic resources, and other materials in the National Library of Medicine (NLM) collections.', 'Nucleotide': 'The Nucleotide database contains all the sequence data from GenBank, EMBL, and DDBJ, including NCBI-curated Reference Sequences (RefSeqs), submitted assemblies and annotations from the Third Party Annotation (TPA) database, and nucleotide sequences extracted from structure records from the Protein Databank (PDB).', 'OMIM': 'The OMIM (Online Mendelian Inheritance in Man) database allows searches of OMIM articles about human genes, genetic disorders, and other inherited traits.', 'PopSet': 'The PopSet database contains related nucleotide sequences that originate from comparative studies: phylogenetic, population, environmental (ecosystem), and mutational.', 'Probe': 'Probe is a database of nucleic acid reagents designed for use in a wide variety of biomedical research applications including genotyping, gene expression studies, SNP discovery, genome mapping, and gene silencing.', 'Protein': 'The Protein database contains amino acid sequences created from the translations of coding regions provided on nucleotide records in GenBank, EMBL, and DDBJ, as well as those from coding regions on NCBI Reference Sequences and the Third Party Annotation (TPA) database records.', 'Protein Clusters': 'Protein Clusters is a collection of related protein sequences (clusters) consisting of Reference Sequence proteins that are encoded by complete prokaryotic genomes as well those encoded eukaryotic organelle plasmids and genomes.', 'PubChem BioAssay': 'PubChem BioAssay is a database that contains bioactivity screens of chemical substances described in PubChem Substance, providing searchable descriptions of each bioassay, including descriptions of the conditions and readouts specific to that screening procedure.', 'PubChem Compound': 'The PubChem Compound database contains unique, validated chemical structures (small molecules) that can be searched using names, synonyms or keywords.', 'PubChem Substance': 'The PubChem Substance database contains information on chemical substances including mixtures electronically submitted to PubChem by depositors.', 'PubMed': 'PubMed is a database of citations and abstracts for biomedical literature from MEDLINE and additional life science journals.', 'PubMed Central': \"PubMed Central (PMC) is the U.S. National Library of Medicine's digital archive of life sciences journal literature, containing full-text manuscripts deposited by authors or articles provided by the publisher.\", 'SNP': 'The SNP (Single Nucleotide Polymorphism) database is a central repository for single nucleotide polymorphisms, microsatellites, and small-scale insertions and deletions.', 'SRA': 'The SRA (Sequence Read Archive) contains sequencing data from the next generation sequencing platforms, accepting and presenting data from all current next-generation sequencing platforms.', 'Structure': 'The Structure or Molecular Modeling Database (MMDB) contains experimental data from crystallographic and NMR structure determinations, obtained from the Protein Data Bank (PDB).', 'Taxonomy': 'The Taxonomy database contains the names and phylogenetic lineages of the more than 350,000 species that have molecular data in the NCBI databases.', 'UniGene': 'UniGene is a database that provides automatically generated nonredundant sets (clusters) of transcript sequences, each cluster representing a distinct transcription locus (gene or expressed pseudogene).'}\n"
     ]
    }
   ],
   "source": [
    "text = json.loads(response.text)"
   ]
  }
 ],
 "metadata": {
  "kernelspec": {
   "display_name": "Python 3",
   "language": "python",
   "name": "python3"
  },
  "language_info": {
   "codemirror_mode": {
    "name": "ipython",
    "version": 3
   },
   "file_extension": ".py",
   "mimetype": "text/x-python",
   "name": "python",
   "nbconvert_exporter": "python",
   "pygments_lexer": "ipython3",
   "version": "3.12.3"
  }
 },
 "nbformat": 4,
 "nbformat_minor": 2
}
