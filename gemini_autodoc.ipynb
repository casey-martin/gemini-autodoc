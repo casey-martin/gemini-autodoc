{
 "cells": [
  {
   "cell_type": "code",
   "execution_count": 7,
   "metadata": {},
   "outputs": [],
   "source": [
    "import google.generativeai as genai\n",
    "import os\n",
    "import pandas as pd\n",
    "from os.path import basename\n",
    "from pathlib import Path\n",
    "from tqdm import tqdm"
   ]
  },
  {
   "cell_type": "code",
   "execution_count": 8,
   "metadata": {},
   "outputs": [],
   "source": [
    "genai.configure(api_key=os.environ[\"GEMINI_API_KEY\"])\n",
    "\n",
    "# See https://ai.google.dev/api/python/google/generativeai/GenerativeModel\n",
    "generation_config = {\n",
    "  \"temperature\": 0.5,\n",
    "  \"top_p\": 0.95,\n",
    "  \"top_k\": 64,\n",
    "  \"max_output_tokens\": 8192,\n",
    "  \"response_mime_type\": \"text/plain\",\n",
    "}"
   ]
  },
  {
   "cell_type": "code",
   "execution_count": 9,
   "metadata": {},
   "outputs": [],
   "source": [
    "data_dir = \"data/eutils_raw/\"\n",
    "api_docs = []\n",
    "\n",
    "for _file in Path(data_dir).iterdir():\n",
    "    with open(_file) as f:\n",
    "        doc = f.readlines()\n",
    "    doc = \"\".join(doc)\n",
    "    api_docs.append([basename(_file), doc])\n",
    "\n",
    "api_docs = pd.DataFrame(api_docs, columns=[\"file\", \"text\"])"
   ]
  },
  {
   "cell_type": "code",
   "execution_count": 10,
   "metadata": {},
   "outputs": [],
   "source": [
    "with open(\"data/prompts/apidoc2json.md\") as f:\n",
    "    base_prompt = f.readlines()\n",
    "base_prompt = \"\".join(base_prompt)"
   ]
  },
  {
   "cell_type": "code",
   "execution_count": 11,
   "metadata": {},
   "outputs": [
    {
     "data": {
      "text/html": [
       "<div>\n",
       "<style scoped>\n",
       "    .dataframe tbody tr th:only-of-type {\n",
       "        vertical-align: middle;\n",
       "    }\n",
       "\n",
       "    .dataframe tbody tr th {\n",
       "        vertical-align: top;\n",
       "    }\n",
       "\n",
       "    .dataframe thead th {\n",
       "        text-align: right;\n",
       "    }\n",
       "</style>\n",
       "<table border=\"1\" class=\"dataframe\">\n",
       "  <thead>\n",
       "    <tr style=\"text-align: right;\">\n",
       "      <th></th>\n",
       "      <th>file</th>\n",
       "      <th>text</th>\n",
       "    </tr>\n",
       "  </thead>\n",
       "  <tbody>\n",
       "    <tr>\n",
       "      <th>0</th>\n",
       "      <td>efetch.txt</td>\n",
       "      <td>EFetch\\nBase URL\\nhttps://eutils.ncbi.nlm.nih....</td>\n",
       "    </tr>\n",
       "    <tr>\n",
       "      <th>1</th>\n",
       "      <td>epost.txt</td>\n",
       "      <td>EPost\\nBase URL\\nhttps://eutils.ncbi.nlm.nih.g...</td>\n",
       "    </tr>\n",
       "    <tr>\n",
       "      <th>2</th>\n",
       "      <td>egquery.txt</td>\n",
       "      <td>EGQuery\\nBase URL\\nhttps://eutils.ncbi.nlm.nih...</td>\n",
       "    </tr>\n",
       "    <tr>\n",
       "      <th>3</th>\n",
       "      <td>esummary.txt</td>\n",
       "      <td>ESummary\\nBase URL\\nhttps://eutils.ncbi.nlm.ni...</td>\n",
       "    </tr>\n",
       "    <tr>\n",
       "      <th>4</th>\n",
       "      <td>esearch.txt</td>\n",
       "      <td>ESearch\\nBase URL\\nhttps://eutils.ncbi.nlm.nih...</td>\n",
       "    </tr>\n",
       "    <tr>\n",
       "      <th>5</th>\n",
       "      <td>ecitmatch.txt</td>\n",
       "      <td>ECitMatch\\nBase URL\\nhttps://eutils.ncbi.nlm.n...</td>\n",
       "    </tr>\n",
       "    <tr>\n",
       "      <th>6</th>\n",
       "      <td>espell.txt</td>\n",
       "      <td>ESpell\\nBase URL\\nhttps://eutils.ncbi.nlm.nih....</td>\n",
       "    </tr>\n",
       "    <tr>\n",
       "      <th>7</th>\n",
       "      <td>einfo.txt</td>\n",
       "      <td>EInfo\\nBase URL\\nhttps://eutils.ncbi.nlm.nih.g...</td>\n",
       "    </tr>\n",
       "    <tr>\n",
       "      <th>8</th>\n",
       "      <td>elink.txt</td>\n",
       "      <td>ELink\\nBase URL\\nhttps://eutils.ncbi.nlm.nih.g...</td>\n",
       "    </tr>\n",
       "  </tbody>\n",
       "</table>\n",
       "</div>"
      ],
      "text/plain": [
       "            file                                               text\n",
       "0     efetch.txt  EFetch\\nBase URL\\nhttps://eutils.ncbi.nlm.nih....\n",
       "1      epost.txt  EPost\\nBase URL\\nhttps://eutils.ncbi.nlm.nih.g...\n",
       "2    egquery.txt  EGQuery\\nBase URL\\nhttps://eutils.ncbi.nlm.nih...\n",
       "3   esummary.txt  ESummary\\nBase URL\\nhttps://eutils.ncbi.nlm.ni...\n",
       "4    esearch.txt  ESearch\\nBase URL\\nhttps://eutils.ncbi.nlm.nih...\n",
       "5  ecitmatch.txt  ECitMatch\\nBase URL\\nhttps://eutils.ncbi.nlm.n...\n",
       "6     espell.txt  ESpell\\nBase URL\\nhttps://eutils.ncbi.nlm.nih....\n",
       "7      einfo.txt  EInfo\\nBase URL\\nhttps://eutils.ncbi.nlm.nih.g...\n",
       "8      elink.txt  ELink\\nBase URL\\nhttps://eutils.ncbi.nlm.nih.g..."
      ]
     },
     "execution_count": 11,
     "metadata": {},
     "output_type": "execute_result"
    }
   ],
   "source": [
    "api_docs"
   ]
  },
  {
   "cell_type": "code",
   "execution_count": null,
   "metadata": {},
   "outputs": [],
   "source": [
    "model = genai.GenerativeModel(\n",
    "  model_name=\"gemini-1.5-flash-latest\",\n",
    "  generation_config=generation_config,\n",
    ")\n",
    "\n",
    "\n",
    "responses = []\n",
    "for doc in tqdm(api_docs[\"text\"]):\n",
    "  prompt = base_prompt.replace(\"{API_DOC}\", doc)\n",
    "\n",
    "  response = model.generate_content([prompt])\n",
    "  try:\n",
    "    responses.append(response.text)\n",
    "  except ValueError:\n",
    "    try: \n",
    "      print(response.candidates)\n",
    "    except:\n",
    "      print(\"Gemini is throwing a tantrum.\")"
   ]
  },
  {
   "cell_type": "code",
   "execution_count": null,
   "metadata": {},
   "outputs": [],
   "source": []
  }
 ],
 "metadata": {
  "kernelspec": {
   "display_name": "Python 3",
   "language": "python",
   "name": "python3"
  },
  "language_info": {
   "codemirror_mode": {
    "name": "ipython",
    "version": 3
   },
   "file_extension": ".py",
   "mimetype": "text/x-python",
   "name": "python",
   "nbconvert_exporter": "python",
   "pygments_lexer": "ipython3",
   "version": "3.12.3"
  }
 },
 "nbformat": 4,
 "nbformat_minor": 2
}
